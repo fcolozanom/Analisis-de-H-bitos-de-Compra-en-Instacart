{
 "cells": [
  {
   "cell_type": "code",
   "execution_count": 1,
   "metadata": {},
   "outputs": [],
   "source": [
    "# Importa librerias\n",
    "import pandas as pd\n",
    "from matplotlib import pyplot as plt"
   ]
  },
  {
   "cell_type": "code",
   "execution_count": 3,
   "metadata": {},
   "outputs": [],
   "source": [
    "# Define los dataframes\n",
    "df_instacart_orders = pd.read_csv('datasets/instacart_orders.csv', delimiter=';')\n",
    "df_products = pd.read_csv('datasets/products.csv', delimiter=';')\n",
    "df_aisles = pd.read_csv('datasets/aisles.csv', delimiter=';')\n",
    "df_departments = pd.read_csv('datasets/departments.csv', delimiter=';')\n",
    "df_order_products = pd.read_csv('datasets/order_products.csv', delimiter=';')"
   ]
  },
  {
   "cell_type": "code",
   "execution_count": 8,
   "metadata": {},
   "outputs": [
    {
     "name": "stdout",
     "output_type": "stream",
     "text": [
      "Información de df_instacart_orders:\n",
      "<class 'pandas.core.frame.DataFrame'>\n",
      "RangeIndex: 478967 entries, 0 to 478966\n",
      "Data columns (total 6 columns):\n",
      " #   Column                  Non-Null Count   Dtype  \n",
      "---  ------                  --------------   -----  \n",
      " 0   order_id                478967 non-null  int64  \n",
      " 1   user_id                 478967 non-null  int64  \n",
      " 2   order_number            478967 non-null  int64  \n",
      " 3   order_dow               478967 non-null  int64  \n",
      " 4   order_hour_of_day       478967 non-null  int64  \n",
      " 5   days_since_prior_order  450148 non-null  float64\n",
      "dtypes: float64(1), int64(5)\n",
      "memory usage: 21.9 MB\n",
      "None\n",
      "\n",
      "Información de df_products:\n",
      "<class 'pandas.core.frame.DataFrame'>\n",
      "RangeIndex: 49694 entries, 0 to 49693\n",
      "Data columns (total 4 columns):\n",
      " #   Column         Non-Null Count  Dtype \n",
      "---  ------         --------------  ----- \n",
      " 0   product_id     49694 non-null  int64 \n",
      " 1   product_name   48436 non-null  object\n",
      " 2   aisle_id       49694 non-null  int64 \n",
      " 3   department_id  49694 non-null  int64 \n",
      "dtypes: int64(3), object(1)\n",
      "memory usage: 1.5+ MB\n",
      "None\n",
      "\n",
      "Información de df_aisles:\n",
      "<class 'pandas.core.frame.DataFrame'>\n",
      "RangeIndex: 134 entries, 0 to 133\n",
      "Data columns (total 2 columns):\n",
      " #   Column    Non-Null Count  Dtype \n",
      "---  ------    --------------  ----- \n",
      " 0   aisle_id  134 non-null    int64 \n",
      " 1   aisle     134 non-null    object\n",
      "dtypes: int64(1), object(1)\n",
      "memory usage: 2.2+ KB\n",
      "None\n",
      "\n",
      "Información de df_departments:\n",
      "<class 'pandas.core.frame.DataFrame'>\n",
      "RangeIndex: 21 entries, 0 to 20\n",
      "Data columns (total 2 columns):\n",
      " #   Column         Non-Null Count  Dtype \n",
      "---  ------         --------------  ----- \n",
      " 0   department_id  21 non-null     int64 \n",
      " 1   department     21 non-null     object\n",
      "dtypes: int64(1), object(1)\n",
      "memory usage: 468.0+ bytes\n",
      "None\n",
      "\n",
      "Información de df_order_products:\n",
      "<class 'pandas.core.frame.DataFrame'>\n",
      "RangeIndex: 4545007 entries, 0 to 4545006\n",
      "Data columns (total 4 columns):\n",
      " #   Column             Dtype  \n",
      "---  ------             -----  \n",
      " 0   order_id           int64  \n",
      " 1   product_id         int64  \n",
      " 2   add_to_cart_order  float64\n",
      " 3   reordered          int64  \n",
      "dtypes: float64(1), int64(3)\n",
      "memory usage: 138.7 MB\n",
      "None\n"
     ]
    }
   ],
   "source": [
    "# Muestra informacion de los dataframes\n",
    "print(\"Información de df_instacart_orders:\")\n",
    "print(df_instacart_orders.info())\n",
    "print()\n",
    "\n",
    "print(\"Información de df_products:\")\n",
    "print(df_products.info())\n",
    "print()\n",
    "\n",
    "print(\"Información de df_aisles:\")\n",
    "print(df_aisles.info())\n",
    "print()\n",
    "\n",
    "print(\"Información de df_departments:\")\n",
    "print(df_departments.info())\n",
    "print()\n",
    "\n",
    "print(\"Información de df_order_products:\")\n",
    "print(df_order_products.info())"
   ]
  },
  {
   "cell_type": "code",
   "execution_count": 9,
   "metadata": {},
   "outputs": [
    {
     "name": "stdout",
     "output_type": "stream",
     "text": [
      "Hay 15 pedidos duplicados en df_instacart_orders.\n"
     ]
    },
    {
     "data": {
      "text/html": [
       "<div>\n",
       "<style scoped>\n",
       "    .dataframe tbody tr th:only-of-type {\n",
       "        vertical-align: middle;\n",
       "    }\n",
       "\n",
       "    .dataframe tbody tr th {\n",
       "        vertical-align: top;\n",
       "    }\n",
       "\n",
       "    .dataframe thead th {\n",
       "        text-align: right;\n",
       "    }\n",
       "</style>\n",
       "<table border=\"1\" class=\"dataframe\">\n",
       "  <thead>\n",
       "    <tr style=\"text-align: right;\">\n",
       "      <th></th>\n",
       "      <th>order_id</th>\n",
       "      <th>user_id</th>\n",
       "      <th>order_number</th>\n",
       "      <th>order_dow</th>\n",
       "      <th>order_hour_of_day</th>\n",
       "      <th>days_since_prior_order</th>\n",
       "    </tr>\n",
       "  </thead>\n",
       "  <tbody>\n",
       "    <tr>\n",
       "      <th>145574</th>\n",
       "      <td>794638</td>\n",
       "      <td>50898</td>\n",
       "      <td>24</td>\n",
       "      <td>3</td>\n",
       "      <td>2</td>\n",
       "      <td>2.0</td>\n",
       "    </tr>\n",
       "    <tr>\n",
       "      <th>223105</th>\n",
       "      <td>2160484</td>\n",
       "      <td>107525</td>\n",
       "      <td>16</td>\n",
       "      <td>3</td>\n",
       "      <td>2</td>\n",
       "      <td>30.0</td>\n",
       "    </tr>\n",
       "    <tr>\n",
       "      <th>230807</th>\n",
       "      <td>1918001</td>\n",
       "      <td>188546</td>\n",
       "      <td>14</td>\n",
       "      <td>3</td>\n",
       "      <td>2</td>\n",
       "      <td>16.0</td>\n",
       "    </tr>\n",
       "    <tr>\n",
       "      <th>266232</th>\n",
       "      <td>1782114</td>\n",
       "      <td>106752</td>\n",
       "      <td>1</td>\n",
       "      <td>3</td>\n",
       "      <td>2</td>\n",
       "      <td>NaN</td>\n",
       "    </tr>\n",
       "    <tr>\n",
       "      <th>273805</th>\n",
       "      <td>1112182</td>\n",
       "      <td>202304</td>\n",
       "      <td>84</td>\n",
       "      <td>3</td>\n",
       "      <td>2</td>\n",
       "      <td>6.0</td>\n",
       "    </tr>\n",
       "    <tr>\n",
       "      <th>284038</th>\n",
       "      <td>2845099</td>\n",
       "      <td>31189</td>\n",
       "      <td>11</td>\n",
       "      <td>3</td>\n",
       "      <td>2</td>\n",
       "      <td>7.0</td>\n",
       "    </tr>\n",
       "    <tr>\n",
       "      <th>311713</th>\n",
       "      <td>1021560</td>\n",
       "      <td>53767</td>\n",
       "      <td>3</td>\n",
       "      <td>3</td>\n",
       "      <td>2</td>\n",
       "      <td>9.0</td>\n",
       "    </tr>\n",
       "    <tr>\n",
       "      <th>321100</th>\n",
       "      <td>408114</td>\n",
       "      <td>68324</td>\n",
       "      <td>4</td>\n",
       "      <td>3</td>\n",
       "      <td>2</td>\n",
       "      <td>18.0</td>\n",
       "    </tr>\n",
       "    <tr>\n",
       "      <th>323900</th>\n",
       "      <td>1919531</td>\n",
       "      <td>191501</td>\n",
       "      <td>32</td>\n",
       "      <td>3</td>\n",
       "      <td>2</td>\n",
       "      <td>7.0</td>\n",
       "    </tr>\n",
       "    <tr>\n",
       "      <th>345917</th>\n",
       "      <td>2232988</td>\n",
       "      <td>82565</td>\n",
       "      <td>1</td>\n",
       "      <td>3</td>\n",
       "      <td>2</td>\n",
       "      <td>NaN</td>\n",
       "    </tr>\n",
       "    <tr>\n",
       "      <th>371905</th>\n",
       "      <td>391768</td>\n",
       "      <td>57671</td>\n",
       "      <td>19</td>\n",
       "      <td>3</td>\n",
       "      <td>2</td>\n",
       "      <td>10.0</td>\n",
       "    </tr>\n",
       "    <tr>\n",
       "      <th>394347</th>\n",
       "      <td>467134</td>\n",
       "      <td>63189</td>\n",
       "      <td>21</td>\n",
       "      <td>3</td>\n",
       "      <td>2</td>\n",
       "      <td>2.0</td>\n",
       "    </tr>\n",
       "    <tr>\n",
       "      <th>411408</th>\n",
       "      <td>1286742</td>\n",
       "      <td>183220</td>\n",
       "      <td>48</td>\n",
       "      <td>3</td>\n",
       "      <td>2</td>\n",
       "      <td>4.0</td>\n",
       "    </tr>\n",
       "    <tr>\n",
       "      <th>415163</th>\n",
       "      <td>2282673</td>\n",
       "      <td>86751</td>\n",
       "      <td>49</td>\n",
       "      <td>3</td>\n",
       "      <td>2</td>\n",
       "      <td>2.0</td>\n",
       "    </tr>\n",
       "    <tr>\n",
       "      <th>441599</th>\n",
       "      <td>2125197</td>\n",
       "      <td>14050</td>\n",
       "      <td>48</td>\n",
       "      <td>3</td>\n",
       "      <td>2</td>\n",
       "      <td>3.0</td>\n",
       "    </tr>\n",
       "  </tbody>\n",
       "</table>\n",
       "</div>"
      ],
      "text/plain": [
       "        order_id  user_id  order_number  order_dow  order_hour_of_day  \\\n",
       "145574    794638    50898            24          3                  2   \n",
       "223105   2160484   107525            16          3                  2   \n",
       "230807   1918001   188546            14          3                  2   \n",
       "266232   1782114   106752             1          3                  2   \n",
       "273805   1112182   202304            84          3                  2   \n",
       "284038   2845099    31189            11          3                  2   \n",
       "311713   1021560    53767             3          3                  2   \n",
       "321100    408114    68324             4          3                  2   \n",
       "323900   1919531   191501            32          3                  2   \n",
       "345917   2232988    82565             1          3                  2   \n",
       "371905    391768    57671            19          3                  2   \n",
       "394347    467134    63189            21          3                  2   \n",
       "411408   1286742   183220            48          3                  2   \n",
       "415163   2282673    86751            49          3                  2   \n",
       "441599   2125197    14050            48          3                  2   \n",
       "\n",
       "        days_since_prior_order  \n",
       "145574                     2.0  \n",
       "223105                    30.0  \n",
       "230807                    16.0  \n",
       "266232                     NaN  \n",
       "273805                     6.0  \n",
       "284038                     7.0  \n",
       "311713                     9.0  \n",
       "321100                    18.0  \n",
       "323900                     7.0  \n",
       "345917                     NaN  \n",
       "371905                    10.0  \n",
       "394347                     2.0  \n",
       "411408                     4.0  \n",
       "415163                     2.0  \n",
       "441599                     3.0  "
      ]
     },
     "metadata": {},
     "output_type": "display_data"
    }
   ],
   "source": [
    "# Revisa si hay pedidos duplicados\n",
    "instacart_orders_duplicates = df_instacart_orders.duplicated().sum()\n",
    "instacart_orders_duplicated_rows = df_instacart_orders[df_instacart_orders.duplicated()]\n",
    "\n",
    "if instacart_orders_duplicates > 0:\n",
    "    print(f\"Hay {instacart_orders_duplicates} pedidos duplicados en df_instacart_orders.\")\n",
    "else:\n",
    "    print(\"No hay pedidos duplicados en df_instacart_orders.\")\n",
    "    \n",
    "display(instacart_orders_duplicated_rows)"
   ]
  },
  {
   "cell_type": "code",
   "execution_count": 10,
   "metadata": {},
   "outputs": [
    {
     "data": {
      "text/html": [
       "<div>\n",
       "<style scoped>\n",
       "    .dataframe tbody tr th:only-of-type {\n",
       "        vertical-align: middle;\n",
       "    }\n",
       "\n",
       "    .dataframe tbody tr th {\n",
       "        vertical-align: top;\n",
       "    }\n",
       "\n",
       "    .dataframe thead th {\n",
       "        text-align: right;\n",
       "    }\n",
       "</style>\n",
       "<table border=\"1\" class=\"dataframe\">\n",
       "  <thead>\n",
       "    <tr style=\"text-align: right;\">\n",
       "      <th></th>\n",
       "      <th>order_id</th>\n",
       "      <th>user_id</th>\n",
       "      <th>order_number</th>\n",
       "      <th>order_dow</th>\n",
       "      <th>order_hour_of_day</th>\n",
       "      <th>days_since_prior_order</th>\n",
       "    </tr>\n",
       "  </thead>\n",
       "  <tbody>\n",
       "    <tr>\n",
       "      <th>4838</th>\n",
       "      <td>2766110</td>\n",
       "      <td>162084</td>\n",
       "      <td>41</td>\n",
       "      <td>3</td>\n",
       "      <td>2</td>\n",
       "      <td>16.0</td>\n",
       "    </tr>\n",
       "    <tr>\n",
       "      <th>5156</th>\n",
       "      <td>2190225</td>\n",
       "      <td>138285</td>\n",
       "      <td>18</td>\n",
       "      <td>3</td>\n",
       "      <td>2</td>\n",
       "      <td>11.0</td>\n",
       "    </tr>\n",
       "    <tr>\n",
       "      <th>15506</th>\n",
       "      <td>553049</td>\n",
       "      <td>58599</td>\n",
       "      <td>13</td>\n",
       "      <td>3</td>\n",
       "      <td>2</td>\n",
       "      <td>7.0</td>\n",
       "    </tr>\n",
       "    <tr>\n",
       "      <th>18420</th>\n",
       "      <td>382357</td>\n",
       "      <td>120200</td>\n",
       "      <td>19</td>\n",
       "      <td>3</td>\n",
       "      <td>2</td>\n",
       "      <td>11.0</td>\n",
       "    </tr>\n",
       "    <tr>\n",
       "      <th>24691</th>\n",
       "      <td>690242</td>\n",
       "      <td>77357</td>\n",
       "      <td>2</td>\n",
       "      <td>3</td>\n",
       "      <td>2</td>\n",
       "      <td>9.0</td>\n",
       "    </tr>\n",
       "    <tr>\n",
       "      <th>...</th>\n",
       "      <td>...</td>\n",
       "      <td>...</td>\n",
       "      <td>...</td>\n",
       "      <td>...</td>\n",
       "      <td>...</td>\n",
       "      <td>...</td>\n",
       "    </tr>\n",
       "    <tr>\n",
       "      <th>457013</th>\n",
       "      <td>3384021</td>\n",
       "      <td>14881</td>\n",
       "      <td>6</td>\n",
       "      <td>3</td>\n",
       "      <td>2</td>\n",
       "      <td>30.0</td>\n",
       "    </tr>\n",
       "    <tr>\n",
       "      <th>458816</th>\n",
       "      <td>910166</td>\n",
       "      <td>164782</td>\n",
       "      <td>18</td>\n",
       "      <td>3</td>\n",
       "      <td>2</td>\n",
       "      <td>4.0</td>\n",
       "    </tr>\n",
       "    <tr>\n",
       "      <th>459635</th>\n",
       "      <td>1680532</td>\n",
       "      <td>106435</td>\n",
       "      <td>6</td>\n",
       "      <td>3</td>\n",
       "      <td>2</td>\n",
       "      <td>21.0</td>\n",
       "    </tr>\n",
       "    <tr>\n",
       "      <th>468324</th>\n",
       "      <td>222962</td>\n",
       "      <td>54979</td>\n",
       "      <td>59</td>\n",
       "      <td>3</td>\n",
       "      <td>2</td>\n",
       "      <td>3.0</td>\n",
       "    </tr>\n",
       "    <tr>\n",
       "      <th>477526</th>\n",
       "      <td>2592344</td>\n",
       "      <td>46860</td>\n",
       "      <td>38</td>\n",
       "      <td>3</td>\n",
       "      <td>2</td>\n",
       "      <td>3.0</td>\n",
       "    </tr>\n",
       "  </tbody>\n",
       "</table>\n",
       "<p>121 rows × 6 columns</p>\n",
       "</div>"
      ],
      "text/plain": [
       "        order_id  user_id  order_number  order_dow  order_hour_of_day  \\\n",
       "4838     2766110   162084            41          3                  2   \n",
       "5156     2190225   138285            18          3                  2   \n",
       "15506     553049    58599            13          3                  2   \n",
       "18420     382357   120200            19          3                  2   \n",
       "24691     690242    77357             2          3                  2   \n",
       "...          ...      ...           ...        ...                ...   \n",
       "457013   3384021    14881             6          3                  2   \n",
       "458816    910166   164782            18          3                  2   \n",
       "459635   1680532   106435             6          3                  2   \n",
       "468324    222962    54979            59          3                  2   \n",
       "477526   2592344    46860            38          3                  2   \n",
       "\n",
       "        days_since_prior_order  \n",
       "4838                      16.0  \n",
       "5156                      11.0  \n",
       "15506                      7.0  \n",
       "18420                     11.0  \n",
       "24691                      9.0  \n",
       "...                        ...  \n",
       "457013                    30.0  \n",
       "458816                     4.0  \n",
       "459635                    21.0  \n",
       "468324                     3.0  \n",
       "477526                     3.0  \n",
       "\n",
       "[121 rows x 6 columns]"
      ]
     },
     "metadata": {},
     "output_type": "display_data"
    }
   ],
   "source": [
    "# Verifica todos los pedidos que se hicieron el miércoles a las 2:00 a.m.\n",
    "wednesday_2am_orders = df_instacart_orders[(df_instacart_orders['order_dow'] == 3) \n",
    "                        & (df_instacart_orders['order_hour_of_day'] == 2)]\n",
    "\n",
    "display(wednesday_2am_orders)"
   ]
  },
  {
   "cell_type": "code",
   "execution_count": 11,
   "metadata": {},
   "outputs": [],
   "source": [
    "# Elimina los pedidos duplicados\n",
    "df_instacart_orders = df_instacart_orders.drop_duplicates()"
   ]
  },
  {
   "cell_type": "code",
   "execution_count": 12,
   "metadata": {},
   "outputs": [
    {
     "name": "stdout",
     "output_type": "stream",
     "text": [
      "No hay filas duplicadas en df_instacart_orders después de la eliminación.\n"
     ]
    }
   ],
   "source": [
    "# Vuelve a verificar si hay filas duplicadas\n",
    "# Elimina los pedidos duplicados\n",
    "duplicates_after_removal = df_instacart_orders.duplicated().sum()\n",
    "\n",
    "if duplicates_after_removal > 0:\n",
    "    print(f\"Hay {duplicates_after_removal} filas duplicadas en df_instacart_orders después de la eliminación.\")\n",
    "else:\n",
    "    print(\"No hay filas duplicadas en df_instacart_orders después de la eliminación.\")"
   ]
  },
  {
   "cell_type": "code",
   "execution_count": 13,
   "metadata": {},
   "outputs": [
    {
     "name": "stdout",
     "output_type": "stream",
     "text": [
      "No hay IDs de pedidos duplicados en df_instacart_orders.\n"
     ]
    }
   ],
   "source": [
    "# Vuelve a verificar únicamente si hay IDs duplicados de pedidos\n",
    "duplicated_order_ids = df_instacart_orders['order_id'].duplicated().sum()\n",
    "\n",
    "if duplicated_order_ids > 0:\n",
    "    print(f\"Hay {duplicated_order_ids} IDs de pedidos duplicados en df_instacart_orders.\")\n",
    "else:\n",
    "    print(\"No hay IDs de pedidos duplicados en df_instacart_orders.\")"
   ]
  },
  {
   "cell_type": "code",
   "execution_count": 14,
   "metadata": {},
   "outputs": [
    {
     "name": "stdout",
     "output_type": "stream",
     "text": [
      "No hay productos duplicados en df_products.\n"
     ]
    }
   ],
   "source": [
    "# Verifica si hay filas totalmente duplicadas en df_products\n",
    "products_duplicates = df_products.duplicated().sum()\n",
    "\n",
    "if products_duplicates > 0:\n",
    "    print(f\"Hay {products_duplicates} productos duplicados en df_products.\")\n",
    "else:\n",
    "    print(\"No hay productos duplicados en df_products.\")"
   ]
  },
  {
   "cell_type": "code",
   "execution_count": 15,
   "metadata": {},
   "outputs": [
    {
     "name": "stdout",
     "output_type": "stream",
     "text": [
      "No hay IDs de productos duplicados en df_products.\n"
     ]
    }
   ],
   "source": [
    "# Verifica únicamente si hay IDs duplicadas de productos en df_products\n",
    "duplicated_products_ids = df_products['product_id'].duplicated().sum()\n",
    "\n",
    "if duplicated_products_ids > 0:  \n",
    "    print(f\"Hay {duplicated_products_ids} IDs de productos duplicados en df_products.\")\n",
    "else:\n",
    "    print(\"No hay IDs de productos duplicados en df_products.\")"
   ]
  },
  {
   "cell_type": "code",
   "execution_count": 16,
   "metadata": {},
   "outputs": [
    {
     "name": "stdout",
     "output_type": "stream",
     "text": [
      "Hay 1361 nombres de productos duplicados en df_products.\n"
     ]
    }
   ],
   "source": [
    "# Revisa únicamente si hay nombres duplicados de productos (convierte los nombres a letras mayúsculas para compararlos mejor)\n",
    "df_products['product_name'] = df_products['product_name'].str.upper()\n",
    "duplicated_product_names = df_products['product_name'].duplicated().sum()\n",
    "\n",
    "if duplicated_product_names > 0:\n",
    "    print(f\"Hay {duplicated_product_names} nombres de productos duplicados en df_products.\")\n",
    "else:\n",
    "    print(\"No hay nombres de productos duplicados en df_products.\")"
   ]
  },
  {
   "cell_type": "code",
   "execution_count": null,
   "metadata": {},
   "outputs": [],
   "source": [
    "# Revisa si hay nombres de productos duplicados en df_products\n",
    "duplicated_product_names = df_products[df_products['product_name'].notnull()]['product_name'].duplicated().sum()\n",
    "\n",
    "if duplicated_product_names > 0:\n",
    "    print(f\"Hay {duplicated_product_names} nombres de productos duplicados (no faltantes) en df_products.\")\n",
    "else:\n",
    "    print(\"No hay nombres de productos duplicados (no faltantes) en df_products.\")"
   ]
  },
  {
   "cell_type": "code",
   "execution_count": 17,
   "metadata": {},
   "outputs": [
    {
     "name": "stdout",
     "output_type": "stream",
     "text": [
      "No hay departamentos duplicados en df_departments.\n"
     ]
    }
   ],
   "source": [
    "# Revisa si hay filas totalmente duplicadas en df_departments\n",
    "departments_duplicates = df_departments.duplicated().sum()\n",
    "\n",
    "if departments_duplicates > 0:\n",
    "    print(f\"Hay {departments_duplicates} departamentos duplicados en df_departments.\")\n",
    "else:\n",
    "    print(\"No hay departamentos duplicados en df_departments.\")"
   ]
  },
  {
   "cell_type": "code",
   "execution_count": 18,
   "metadata": {},
   "outputs": [
    {
     "name": "stdout",
     "output_type": "stream",
     "text": [
      "No hay IDs de departmanetos duplicados.\n"
     ]
    }
   ],
   "source": [
    "# Revisa únicamente si hay IDs duplicadas de productos en department_id\n",
    "duplicated_departments_ids = df_departments['department_id'].duplicated().sum()\n",
    "\n",
    "if duplicated_departments_ids > 0:\n",
    "    print(f\"Hay {duplicated_departments_ids} IDs de departmentos duplicados.\")\n",
    "else:\n",
    "    print(\"No hay IDs de departmanetos duplicados.\")"
   ]
  },
  {
   "cell_type": "code",
   "execution_count": 19,
   "metadata": {},
   "outputs": [
    {
     "name": "stdout",
     "output_type": "stream",
     "text": [
      "No hay pasillos duplicados en df_aisles.\n"
     ]
    }
   ],
   "source": [
    "# Revisa si hay filas totalmente duplicadas en df_aisles\n",
    "aisles_duplicates = df_aisles.duplicated().sum()\n",
    "\n",
    "if aisles_duplicates > 0:\n",
    "    print(f\"Hay {aisles_duplicates} pasillos duplicados en df_aisles.\")\n",
    "else:\n",
    "    print(\"No hay pasillos duplicados en df_aisles.\")"
   ]
  },
  {
   "cell_type": "code",
   "execution_count": 21,
   "metadata": {},
   "outputs": [
    {
     "name": "stdout",
     "output_type": "stream",
     "text": [
      "No hay IDs de pasillos duplicados.\n"
     ]
    }
   ],
   "source": [
    "# Revisa únicamente si hay IDs duplicadas de productos en df_aisles\n",
    "duplicated_aisles_ids = df_aisles['aisle_id'].duplicated().sum()\n",
    "\n",
    "if duplicated_aisles_ids > 0:\n",
    "    print(f\"Hay {duplicated_aisles_ids} IDs de pasillos duplicados.\")\n",
    "else:\n",
    "    print(\"No hay IDs de pasillos duplicados.\")"
   ]
  },
  {
   "cell_type": "code",
   "execution_count": 22,
   "metadata": {},
   "outputs": [
    {
     "name": "stdout",
     "output_type": "stream",
     "text": [
      "No hay articulos pedidos duplicados en df_order_products.\n"
     ]
    }
   ],
   "source": [
    "# Revisa si hay filas totalmente duplicadas en df_order_products\n",
    "order_products_duplicates = df_order_products.duplicated().sum()\n",
    "\n",
    "if order_products_duplicates > 0:\n",
    "    print(f\"Hay {order_products_duplicates} articulos pedidos duplicados en df_order_products.\")\n",
    "else:\n",
    "    print(\"No hay articulos pedidos duplicados en df_order_products.\")"
   ]
  },
  {
   "cell_type": "code",
   "execution_count": 23,
   "metadata": {},
   "outputs": [
    {
     "name": "stdout",
     "output_type": "stream",
     "text": [
      "No se encontraron otros duplicados engañosos en df_order_products.\n"
     ]
    }
   ],
   "source": [
    "# Vuelve a verificar si hay cualquier otro duplicado engañoso en df_order_products\n",
    "other_duplicated_order_products = df_order_products[df_order_products.duplicated(subset=['order_id', 'product_id', 'add_to_cart_order', 'reordered'])]\n",
    "\n",
    "if not other_duplicated_order_products.empty:\n",
    "    print(\"Se encontraron otros duplicados engañosos en df_order_products:\")\n",
    "    print(other_duplicated_order_products)\n",
    "else:\n",
    "    print(\"No se encontraron otros duplicados engañosos en df_order_products.\")"
   ]
  },
  {
   "cell_type": "code",
   "execution_count": 24,
   "metadata": {},
   "outputs": [
    {
     "name": "stdout",
     "output_type": "stream",
     "text": [
      "Hay 1258 valores ausentes en la columna 'product_name' del DataFrame df_products.\n"
     ]
    }
   ],
   "source": [
    "# Encuentra los valores ausentes en la columna 'product_name' del dataframe df_products\n",
    "missing_product_names = df_products['product_name'].isnull().sum()\n",
    "print(f\"Hay {missing_product_names} valores ausentes en la columna 'product_name' del DataFrame df_products.\")"
   ]
  },
  {
   "cell_type": "code",
   "execution_count": 25,
   "metadata": {},
   "outputs": [
    {
     "name": "stdout",
     "output_type": "stream",
     "text": [
      "Sí, todos los nombres de productos ausentes están relacionados con el pasillo con ID 100.\n"
     ]
    }
   ],
   "source": [
    "#  ¿Todos los nombres de productos ausentes están relacionados con el pasillo con ID 100?\n",
    "missing_product_names_with_aisle_100 = df_products[df_products['product_name'].isnull() & (df_products['aisle_id'] == 100)]\n",
    "\n",
    "if len(missing_product_names_with_aisle_100) == missing_product_names:\n",
    "    print(\"Sí, todos los nombres de productos ausentes están relacionados con el pasillo con ID 100.\")\n",
    "else:\n",
    "    print(\"No, no todos los nombres de productos ausentes están relacionados con el pasillo con ID 100.\")"
   ]
  },
  {
   "cell_type": "code",
   "execution_count": 26,
   "metadata": {},
   "outputs": [
    {
     "name": "stdout",
     "output_type": "stream",
     "text": [
      "Sí, todos los nombres de productos ausentes están relacionados con el departamento con ID 21.\n"
     ]
    }
   ],
   "source": [
    "# ¿Todos los nombres de productos ausentes están relacionados con el departamento con ID 21?\n",
    "missing_product_names_with_department_21 = df_products[df_products['product_name'].isnull() & (df_products['department_id'] == 21)]\n",
    "\n",
    "if len(missing_product_names_with_department_21) == missing_product_names:\n",
    "    print(\"Sí, todos los nombres de productos ausentes están relacionados con el departamento con ID 21.\")\n",
    "else:\n",
    "    print(\"No, no todos los nombres de productos ausentes están relacionados con el departamento con ID 21.\")"
   ]
  },
  {
   "cell_type": "code",
   "execution_count": 27,
   "metadata": {},
   "outputs": [
    {
     "data": {
      "text/html": [
       "<div>\n",
       "<style scoped>\n",
       "    .dataframe tbody tr th:only-of-type {\n",
       "        vertical-align: middle;\n",
       "    }\n",
       "\n",
       "    .dataframe tbody tr th {\n",
       "        vertical-align: top;\n",
       "    }\n",
       "\n",
       "    .dataframe thead th {\n",
       "        text-align: right;\n",
       "    }\n",
       "</style>\n",
       "<table border=\"1\" class=\"dataframe\">\n",
       "  <thead>\n",
       "    <tr style=\"text-align: right;\">\n",
       "      <th></th>\n",
       "      <th>aisle_id</th>\n",
       "      <th>aisle</th>\n",
       "    </tr>\n",
       "  </thead>\n",
       "  <tbody>\n",
       "    <tr>\n",
       "      <th>99</th>\n",
       "      <td>100</td>\n",
       "      <td>missing</td>\n",
       "    </tr>\n",
       "  </tbody>\n",
       "</table>\n",
       "</div>"
      ],
      "text/plain": [
       "    aisle_id    aisle\n",
       "99       100  missing"
      ]
     },
     "metadata": {},
     "output_type": "display_data"
    },
    {
     "data": {
      "text/html": [
       "<div>\n",
       "<style scoped>\n",
       "    .dataframe tbody tr th:only-of-type {\n",
       "        vertical-align: middle;\n",
       "    }\n",
       "\n",
       "    .dataframe tbody tr th {\n",
       "        vertical-align: top;\n",
       "    }\n",
       "\n",
       "    .dataframe thead th {\n",
       "        text-align: right;\n",
       "    }\n",
       "</style>\n",
       "<table border=\"1\" class=\"dataframe\">\n",
       "  <thead>\n",
       "    <tr style=\"text-align: right;\">\n",
       "      <th></th>\n",
       "      <th>department_id</th>\n",
       "      <th>department</th>\n",
       "    </tr>\n",
       "  </thead>\n",
       "  <tbody>\n",
       "    <tr>\n",
       "      <th>20</th>\n",
       "      <td>21</td>\n",
       "      <td>missing</td>\n",
       "    </tr>\n",
       "  </tbody>\n",
       "</table>\n",
       "</div>"
      ],
      "text/plain": [
       "    department_id department\n",
       "20             21    missing"
      ]
     },
     "metadata": {},
     "output_type": "display_data"
    }
   ],
   "source": [
    "# Usa las tablas department y aisle para revisar los datos del pasillo con ID 100 y el departamento con ID 21.\n",
    "aisle_100 = df_aisles[df_aisles['aisle_id'] == 100]\n",
    "department_21 = df_departments[df_departments['department_id'] == 21]\n",
    "\n",
    "display(aisle_100)\n",
    "display(department_21)"
   ]
  },
  {
   "cell_type": "code",
   "execution_count": 28,
   "metadata": {},
   "outputs": [],
   "source": [
    "# Completa los nombres de productos ausentes con 'Unknown'\n",
    "df_products['product_name'].fillna('Unknown', inplace=True)"
   ]
  },
  {
   "cell_type": "code",
   "execution_count": 29,
   "metadata": {},
   "outputs": [
    {
     "name": "stdout",
     "output_type": "stream",
     "text": [
      "order_id                      0\n",
      "user_id                       0\n",
      "order_number                  0\n",
      "order_dow                     0\n",
      "order_hour_of_day             0\n",
      "days_since_prior_order    28817\n",
      "dtype: int64\n"
     ]
    }
   ],
   "source": [
    "# Encuentra los valores ausentes en instacart_orders\n",
    "missing_values_df_instacart_orders = df_instacart_orders.isnull().sum()\n",
    "print(missing_values_df_instacart_orders)"
   ]
  },
  {
   "cell_type": "code",
   "execution_count": 30,
   "metadata": {},
   "outputs": [
    {
     "name": "stdout",
     "output_type": "stream",
     "text": [
      "No, todos los valores ausentes corresponden al primer pedido del cliente (order_number = 1).\n"
     ]
    }
   ],
   "source": [
    "# ¿Hay algún valor ausente que no sea el primer pedido del cliente?\n",
    "orders_with_missing_days = df_instacart_orders[(df_instacart_orders['days_since_prior_order'].isnull()) \n",
    "                                               & (df_instacart_orders['order_number'] != 1)]\n",
    "if not orders_with_missing_days.empty:\n",
    "    print(\"Sí, hay valores ausentes que no corresponden al primer pedido del cliente.\")\n",
    "else:\n",
    "    print(\"No, todos los valores ausentes corresponden al primer pedido del cliente (order_number = 1).\")"
   ]
  },
  {
   "cell_type": "code",
   "execution_count": 31,
   "metadata": {},
   "outputs": [
    {
     "name": "stdout",
     "output_type": "stream",
     "text": [
      "order_id               0\n",
      "product_id             0\n",
      "add_to_cart_order    836\n",
      "reordered              0\n",
      "dtype: int64\n"
     ]
    }
   ],
   "source": [
    "# Encuentra los valores ausentes en order_products\n",
    "missing_values_order_products = df_order_products.isnull().sum()\n",
    "print(missing_values_order_products)"
   ]
  },
  {
   "cell_type": "code",
   "execution_count": 32,
   "metadata": {},
   "outputs": [
    {
     "name": "stdout",
     "output_type": "stream",
     "text": [
      "1.0\n",
      "64.0\n"
     ]
    }
   ],
   "source": [
    "# ¿Cuáles son los valores mínimos y máximos en esta columna?\n",
    "min_value = df_order_products['add_to_cart_order'].min()\n",
    "max_value = df_order_products['add_to_cart_order'].max()\n",
    "print(min_value)\n",
    "print(max_value)"
   ]
  },
  {
   "cell_type": "code",
   "execution_count": 33,
   "metadata": {},
   "outputs": [],
   "source": [
    "# Guarda todas las IDs de pedidos que tengan un valor ausente en 'add_to_cart_order'\n",
    "orders_with_missing_cart_order = df_order_products[df_order_products['add_to_cart_order'].isnull()]['order_id'].unique()"
   ]
  },
  {
   "cell_type": "code",
   "execution_count": 34,
   "metadata": {},
   "outputs": [],
   "source": [
    "# Agrupa todos los pedidos con datos ausentes por su ID de pedido.\n",
    "missing_cart_order_groups = df_order_products[df_order_products['add_to_cart_order'].isnull()].groupby('order_id')"
   ]
  },
  {
   "cell_type": "code",
   "execution_count": 35,
   "metadata": {},
   "outputs": [
    {
     "name": "stdout",
     "output_type": "stream",
     "text": [
      "Todos los pedidos con valores ausentes tienen 64 o menos productos.\n"
     ]
    }
   ],
   "source": [
    "# Cuenta el número de 'product_id' en cada pedido y revisa el valor mínimo del conteo.\n",
    "min_products_in_missing_orders = missing_cart_order_groups['product_id'].count().min()\n",
    "\n",
    "if min_products_in_missing_orders > 64:\n",
    "    print(\"No todos los pedidos con valores ausentes tienen más de 64 productos.\")\n",
    "else:\n",
    "    print(\"Todos los pedidos con valores ausentes tienen 64 o menos productos.\")"
   ]
  },
  {
   "cell_type": "code",
   "execution_count": 36,
   "metadata": {},
   "outputs": [],
   "source": [
    "# Remplaza los valores ausentes en la columna 'add_to_cart? con 999 y convierte la columna al tipo entero.\n",
    "df_order_products['add_to_cart_order'].fillna(999, inplace=True)\n",
    "df_order_products['add_to_cart_order'] = df_order_products['add_to_cart_order'].astype(int)"
   ]
  },
  {
   "cell_type": "code",
   "execution_count": 38,
   "metadata": {},
   "outputs": [
    {
     "name": "stdout",
     "output_type": "stream",
     "text": [
      "Todos los valores en 'order_hour_of_day' son sensibles (0-23).\n",
      "Todos los valores en 'order_dow' son sensibles (0-6).\n"
     ]
    }
   ],
   "source": [
    "# Verifica que los valores en las columnas 'order_hour_of_day' y 'order_dow' de la tabla orders sean sensibles (es decir, 'order_hour_of_day' va de 0 a 23 y 'order_dow' va de 0 a 6)\n",
    "valid_hours = (df_instacart_orders['order_hour_of_day'] >= 0) & (df_instacart_orders['order_hour_of_day'] <= 23)\n",
    "\n",
    "if valid_hours.all():\n",
    "    print(\"Todos los valores en 'order_hour_of_day' son sensibles (0-23).\")\n",
    "else:\n",
    "    print(\"Al menos un valor en 'order_hour_of_day' no es sensible.\")\n",
    "\n",
    "valid_dow = (df_instacart_orders['order_dow'] >= 0) & (df_instacart_orders['order_dow'] <= 6)\n",
    "\n",
    "if valid_dow.all():\n",
    "    print(\"Todos los valores en 'order_dow' son sensibles (0-6).\")\n",
    "else:\n",
    "    print(\"Al menos un valor en 'order_dow' no es sensible.\")"
   ]
  },
  {
   "cell_type": "code",
   "execution_count": 39,
   "metadata": {},
   "outputs": [
    {
     "data": {
      "image/png": "[encoded data removed]",
      "text/plain": [
       "<Figure size 1200x500 with 1 Axes>"
      ]
     },
     "metadata": {},
     "output_type": "display_data"
    }
   ],
   "source": [
    "# Traza un gráfico que demuestre cuantas personas hacen órdenes para cada hora del día\n",
    "hourly_order_count = df_instacart_orders['order_hour_of_day'].value_counts().sort_index()\n",
    "\n",
    "hourly_order_count.plot(x='hourly_order_count.index',\n",
    "                        y='hourly_order_count.values',\n",
    "                        kind='bar',\n",
    "                        title='Número de Pedidos por Hora del Día',\n",
    "                        rot= 0,\n",
    "                        xlabel= 'Hora del Día',\n",
    "                        ylabel='Número de Pedidos',\n",
    "                        figsize=(12,5)\n",
    "                       )\n",
    "plt.show()"
   ]
  },
  {
   "cell_type": "code",
   "execution_count": 40,
   "metadata": {},
   "outputs": [
    {
     "data": {
      "image/png": "[encoded data removed]",
      "text/plain": [
       "<Figure size 1200x500 with 1 Axes>"
      ]
     },
     "metadata": {},
     "output_type": "display_data"
    }
   ],
   "source": [
    "# Traza un gráfico que demuestre que día de la semana compran víveres las personas\n",
    "day_of_week_counts = df_instacart_orders['order_dow'].value_counts().sort_index()\n",
    "day_names = {\n",
    "    0: 'Domingo',\n",
    "    1: 'Lunes',\n",
    "    2: 'Martes',\n",
    "    3: 'Miércoles',\n",
    "    4: 'Jueves',\n",
    "    5: 'Viernes',\n",
    "    6: 'Sábado'\n",
    "}\n",
    "\n",
    "day_of_week_counts.index = [day_names[day] for day in day_of_week_counts.index]\n",
    "\n",
    "\n",
    "day_of_week_counts.plot(\n",
    "                        x='day_of_weel_countd.index',\n",
    "                        y= 'day_of the week_counts.values',\n",
    "                        kind= 'bar',\n",
    "                        title= 'Número de Pedidos de Víveres por Día de la Semana',\n",
    "                        rot= 0,\n",
    "                        xlabel= 'Día de la Semana',\n",
    "                        ylabel= 'Número de Pedidos',\n",
    "                        figsize= (12, 5)\n",
    "                        )\n",
    "plt.show()"
   ]
  },
  {
   "cell_type": "code",
   "execution_count": 41,
   "metadata": {},
   "outputs": [
    {
     "name": "stdout",
     "output_type": "stream",
     "text": [
      "El valor mínimo en 'days_since_prior_order' es: 0.0 días\n",
      "El valor máximo en 'days_since_prior_order' es: 30.0 días\n"
     ]
    },
    {
     "data": {
      "image/png": "[encoded data removed]",
      "text/plain": [
       "<Figure size 1200x400 with 1 Axes>"
      ]
     },
     "metadata": {},
     "output_type": "display_data"
    }
   ],
   "source": [
    "# Traza un gráfico que demuestre cuanto tiempo esperan las personas hasta hacer otro pedido\n",
    "min_days_since_prior_order = df_instacart_orders['days_since_prior_order'].min()\n",
    "max_days_since_prior_order = df_instacart_orders['days_since_prior_order'].max()\n",
    "\n",
    "print(f\"El valor mínimo en 'days_since_prior_order' es: {min_days_since_prior_order} días\")\n",
    "print(f\"El valor máximo en 'days_since_prior_order' es: {max_days_since_prior_order} días\")\n",
    "\n",
    "\n",
    "df_instacart_orders['days_since_prior_order'].plot(\n",
    "                                                    kind='hist',\n",
    "                                                    bins=30,\n",
    "                                                    title= 'Distribución de Tiempo de Espera entre Pedidos',\n",
    "                                                    xlabel= 'Días hasta el Siguiente Pedido',\n",
    "                                                    ylabel= 'Frecuencia',\n",
    "                                                    figsize= (12, 4)\n",
    "                                                    )\n",
    "plt.show()"
   ]
  },
  {
   "cell_type": "code",
   "execution_count": 42,
   "metadata": {},
   "outputs": [
    {
     "data": {
      "image/png": "[encoded data removed]",
      "text/plain": [
       "<Figure size 1200x500 with 1 Axes>"
      ]
     },
     "metadata": {},
     "output_type": "display_data"
    }
   ],
   "source": [
    "# Diferencia entre miércoles y sábados para 'order_hour_of_day'. Traza gráficos de barra para los dos días y describe las diferencias que veas.\n",
    "wednesday_orders = df_instacart_orders[df_instacart_orders['order_dow'] == 3]\n",
    "saturday_orders = df_instacart_orders[df_instacart_orders['order_dow'] == 6]\n",
    "\n",
    "wednesday_order_counts = wednesday_orders['order_hour_of_day'].value_counts().sort_index()\n",
    "saturday_order_counts = saturday_orders['order_hour_of_day'].value_counts().sort_index()\n",
    "\n",
    "df_hourly_orders = pd.DataFrame(\n",
    "                                {'Miércoles': wednesday_order_counts.values,\n",
    "                                 'Sábado': saturday_order_counts.values}, \n",
    "                                index=wednesday_order_counts.index)\n",
    "\n",
    "df_hourly_orders.plot(\n",
    "                      rot=0,\n",
    "                      xlabel= 'Hora del Día',\n",
    "                      ylabel= 'Número de Pedidos',\n",
    "                      title= 'Distribución de Pedidos por Hora del Día (Miércoles vs. Sábado)',\n",
    "                      kind='bar', \n",
    "                      figsize=(12, 5),\n",
    "                      )\n",
    "plt.legend(title='Día de la Semana', labels=['Miércoles', 'Sábado'])\n",
    "plt.show()"
   ]
  },
  {
   "cell_type": "code",
   "execution_count": 43,
   "metadata": {},
   "outputs": [
    {
     "data": {
      "image/png": "[encoded data removed]",
      "text/plain": [
       "<Figure size 1200x500 with 1 Axes>"
      ]
     },
     "metadata": {},
     "output_type": "display_data"
    }
   ],
   "source": [
    "# Traza un gráfico que demuestre cuaul es la distribución para el número de pedidos por cliente\n",
    "orders_per_customer = df_instacart_orders['user_id'].value_counts()\n",
    "order_counts = orders_per_customer.value_counts().sort_index()\n",
    "\n",
    "order_counts.plot(\n",
    "                  x= 'order_count.index',\n",
    "                  y= 'order_counts.values',\n",
    "                  kind= 'bar',\n",
    "                  title= 'Distribución del Número de Pedidos por Cliente',\n",
    "                  xlabel= 'Número de Pedidos por Cliente',\n",
    "                  ylabel= 'Número de Clientes',\n",
    "                  figsize=(12, 5),\n",
    "                  )\n",
    "plt.show()"
   ]
  },
  {
   "cell_type": "code",
   "execution_count": 44,
   "metadata": {},
   "outputs": [
    {
     "data": {
      "text/html": [
       "<div>\n",
       "<style scoped>\n",
       "    .dataframe tbody tr th:only-of-type {\n",
       "        vertical-align: middle;\n",
       "    }\n",
       "\n",
       "    .dataframe tbody tr th {\n",
       "        vertical-align: top;\n",
       "    }\n",
       "\n",
       "    .dataframe thead th {\n",
       "        text-align: right;\n",
       "    }\n",
       "</style>\n",
       "<table border=\"1\" class=\"dataframe\">\n",
       "  <thead>\n",
       "    <tr style=\"text-align: right;\">\n",
       "      <th></th>\n",
       "      <th>product_id</th>\n",
       "      <th>product_name</th>\n",
       "      <th>add_to_cart_order</th>\n",
       "    </tr>\n",
       "  </thead>\n",
       "  <tbody>\n",
       "    <tr>\n",
       "      <th>22808</th>\n",
       "      <td>24852</td>\n",
       "      <td>BANANA</td>\n",
       "      <td>325958</td>\n",
       "    </tr>\n",
       "    <tr>\n",
       "      <th>12025</th>\n",
       "      <td>13176</td>\n",
       "      <td>BAG OF ORGANIC BANANAS</td>\n",
       "      <td>273772</td>\n",
       "    </tr>\n",
       "    <tr>\n",
       "      <th>19370</th>\n",
       "      <td>21137</td>\n",
       "      <td>ORGANIC STRAWBERRIES</td>\n",
       "      <td>272490</td>\n",
       "    </tr>\n",
       "    <tr>\n",
       "      <th>20077</th>\n",
       "      <td>21903</td>\n",
       "      <td>ORGANIC BABY SPINACH</td>\n",
       "      <td>255233</td>\n",
       "    </tr>\n",
       "    <tr>\n",
       "      <th>43271</th>\n",
       "      <td>47209</td>\n",
       "      <td>ORGANIC HASS AVOCADO</td>\n",
       "      <td>202976</td>\n",
       "    </tr>\n",
       "    <tr>\n",
       "      <th>24047</th>\n",
       "      <td>26209</td>\n",
       "      <td>LIMES</td>\n",
       "      <td>171863</td>\n",
       "    </tr>\n",
       "    <tr>\n",
       "      <th>43663</th>\n",
       "      <td>47626</td>\n",
       "      <td>LARGE LEMON</td>\n",
       "      <td>171731</td>\n",
       "    </tr>\n",
       "    <tr>\n",
       "      <th>43788</th>\n",
       "      <td>47766</td>\n",
       "      <td>ORGANIC AVOCADO</td>\n",
       "      <td>160678</td>\n",
       "    </tr>\n",
       "    <tr>\n",
       "      <th>15364</th>\n",
       "      <td>16797</td>\n",
       "      <td>STRAWBERRIES</td>\n",
       "      <td>142624</td>\n",
       "    </tr>\n",
       "    <tr>\n",
       "      <th>25666</th>\n",
       "      <td>27966</td>\n",
       "      <td>ORGANIC RASPBERRIES</td>\n",
       "      <td>141043</td>\n",
       "    </tr>\n",
       "    <tr>\n",
       "      <th>21025</th>\n",
       "      <td>22935</td>\n",
       "      <td>ORGANIC YELLOW ONION</td>\n",
       "      <td>136629</td>\n",
       "    </tr>\n",
       "    <tr>\n",
       "      <th>22908</th>\n",
       "      <td>24964</td>\n",
       "      <td>ORGANIC GARLIC</td>\n",
       "      <td>135599</td>\n",
       "    </tr>\n",
       "    <tr>\n",
       "      <th>41244</th>\n",
       "      <td>45007</td>\n",
       "      <td>ORGANIC ZUCCHINI</td>\n",
       "      <td>131134</td>\n",
       "    </tr>\n",
       "    <tr>\n",
       "      <th>35996</th>\n",
       "      <td>39275</td>\n",
       "      <td>ORGANIC BLUEBERRIES</td>\n",
       "      <td>112502</td>\n",
       "    </tr>\n",
       "    <tr>\n",
       "      <th>37301</th>\n",
       "      <td>40706</td>\n",
       "      <td>ORGANIC GRAPE TOMATOES</td>\n",
       "      <td>111363</td>\n",
       "    </tr>\n",
       "    <tr>\n",
       "      <th>25556</th>\n",
       "      <td>27845</td>\n",
       "      <td>ORGANIC WHOLE MILK</td>\n",
       "      <td>106867</td>\n",
       "    </tr>\n",
       "    <tr>\n",
       "      <th>45561</th>\n",
       "      <td>49683</td>\n",
       "      <td>CUCUMBER KIRBY</td>\n",
       "      <td>106290</td>\n",
       "    </tr>\n",
       "    <tr>\n",
       "      <th>5375</th>\n",
       "      <td>5876</td>\n",
       "      <td>ORGANIC LEMON</td>\n",
       "      <td>100615</td>\n",
       "    </tr>\n",
       "    <tr>\n",
       "      <th>4487</th>\n",
       "      <td>4920</td>\n",
       "      <td>SEEDLESS RED GRAPES</td>\n",
       "      <td>99149</td>\n",
       "    </tr>\n",
       "    <tr>\n",
       "      <th>27876</th>\n",
       "      <td>30391</td>\n",
       "      <td>ORGANIC CUCUMBER</td>\n",
       "      <td>96982</td>\n",
       "    </tr>\n",
       "  </tbody>\n",
       "</table>\n",
       "</div>"
      ],
      "text/plain": [
       "       product_id            product_name  add_to_cart_order\n",
       "22808       24852                  BANANA             325958\n",
       "12025       13176  BAG OF ORGANIC BANANAS             273772\n",
       "19370       21137    ORGANIC STRAWBERRIES             272490\n",
       "20077       21903    ORGANIC BABY SPINACH             255233\n",
       "43271       47209    ORGANIC HASS AVOCADO             202976\n",
       "24047       26209                   LIMES             171863\n",
       "43663       47626             LARGE LEMON             171731\n",
       "43788       47766         ORGANIC AVOCADO             160678\n",
       "15364       16797            STRAWBERRIES             142624\n",
       "25666       27966     ORGANIC RASPBERRIES             141043\n",
       "21025       22935    ORGANIC YELLOW ONION             136629\n",
       "22908       24964          ORGANIC GARLIC             135599\n",
       "41244       45007        ORGANIC ZUCCHINI             131134\n",
       "35996       39275     ORGANIC BLUEBERRIES             112502\n",
       "37301       40706  ORGANIC GRAPE TOMATOES             111363\n",
       "25556       27845      ORGANIC WHOLE MILK             106867\n",
       "45561       49683          CUCUMBER KIRBY             106290\n",
       "5375         5876           ORGANIC LEMON             100615\n",
       "4487         4920     SEEDLESS RED GRAPES              99149\n",
       "27876       30391        ORGANIC CUCUMBER              96982"
      ]
     },
     "metadata": {},
     "output_type": "display_data"
    }
   ],
   "source": [
    "# Demuestra cuales son los 20 productos más populares (muestra su ID y nombre)\n",
    "top_20_products_by_purchase_df = pd.merge(df_order_products, df_products, on='product_id')\n",
    "product_purchase_counts = top_20_products_by_purchase_df.groupby(['product_id', 'product_name'])['add_to_cart_order'].sum().reset_index()\n",
    "top_20_products_by_purchase = product_purchase_counts.sort_values(by='add_to_cart_order', ascending=False).head(20)\n",
    "display(top_20_products_by_purchase)"
   ]
  },
  {
   "cell_type": "code",
   "execution_count": 45,
   "metadata": {},
   "outputs": [
    {
     "data": {
      "image/png": "[encoded data removed]",
      "text/plain": [
       "<Figure size 1200x500 with 1 Axes>"
      ]
     },
     "metadata": {},
     "output_type": "display_data"
    },
    {
     "name": "stdout",
     "output_type": "stream",
     "text": [
      "Promedio de productos por pedido: 10.099\n",
      "Mediana de productos por pedido: 8.0\n",
      "Mínimo de productos por pedido: 1\n",
      "Máximo de productos por pedido: 127\n"
     ]
    }
   ],
   "source": [
    "# Traza un gráfico que demuestre cuantos artículos compran normalmente las personas en un pedido\n",
    "order_product_counts = df_order_products.groupby('order_id')['product_id'].count()\n",
    "\n",
    "order_product_counts.plot(\n",
    "                          kind= 'hist',\n",
    "                          bins= 30,\n",
    "                          title= 'Distribución de la Cantidad de Productos por Pedido',\n",
    "                          xlabel= 'Cantidad de Productos',\n",
    "                          ylabel= 'Frecuencia',\n",
    "                          figsize=(12, 5)\n",
    "                          )\n",
    "plt.show()\n",
    "\n",
    "mean_products_per_order = order_product_counts.mean()\n",
    "median_products_per_order = order_product_counts.median()\n",
    "min_products_per_order = order_product_counts.min()\n",
    "max_products_per_order = order_product_counts.max()\n",
    "\n",
    "print(f\"Promedio de productos por pedido: {mean_products_per_order:.3f}\")\n",
    "print(f\"Mediana de productos por pedido: {median_products_per_order}\")\n",
    "print(f\"Mínimo de productos por pedido: {min_products_per_order}\")\n",
    "print(f\"Máximo de productos por pedido: {max_products_per_order}\")"
   ]
  },
  {
   "cell_type": "code",
   "execution_count": 46,
   "metadata": {},
   "outputs": [
    {
     "name": "stdout",
     "output_type": "stream",
     "text": [
      "Los 20 principales artículos que se vuelven a pedir con mayor frecuencia:\n"
     ]
    },
    {
     "data": {
      "text/html": [
       "<div>\n",
       "<style scoped>\n",
       "    .dataframe tbody tr th:only-of-type {\n",
       "        vertical-align: middle;\n",
       "    }\n",
       "\n",
       "    .dataframe tbody tr th {\n",
       "        vertical-align: top;\n",
       "    }\n",
       "\n",
       "    .dataframe thead th {\n",
       "        text-align: right;\n",
       "    }\n",
       "</style>\n",
       "<table border=\"1\" class=\"dataframe\">\n",
       "  <thead>\n",
       "    <tr style=\"text-align: right;\">\n",
       "      <th></th>\n",
       "      <th>product_id</th>\n",
       "      <th>product_name</th>\n",
       "    </tr>\n",
       "  </thead>\n",
       "  <tbody>\n",
       "    <tr>\n",
       "      <th>5875</th>\n",
       "      <td>5876</td>\n",
       "      <td>ORGANIC LEMON</td>\n",
       "    </tr>\n",
       "    <tr>\n",
       "      <th>8276</th>\n",
       "      <td>8277</td>\n",
       "      <td>APPLE HONEYCRISP ORGANIC</td>\n",
       "    </tr>\n",
       "    <tr>\n",
       "      <th>13175</th>\n",
       "      <td>13176</td>\n",
       "      <td>BAG OF ORGANIC BANANAS</td>\n",
       "    </tr>\n",
       "    <tr>\n",
       "      <th>16796</th>\n",
       "      <td>16797</td>\n",
       "      <td>STRAWBERRIES</td>\n",
       "    </tr>\n",
       "    <tr>\n",
       "      <th>21136</th>\n",
       "      <td>21137</td>\n",
       "      <td>ORGANIC STRAWBERRIES</td>\n",
       "    </tr>\n",
       "    <tr>\n",
       "      <th>21902</th>\n",
       "      <td>21903</td>\n",
       "      <td>ORGANIC BABY SPINACH</td>\n",
       "    </tr>\n",
       "    <tr>\n",
       "      <th>22934</th>\n",
       "      <td>22935</td>\n",
       "      <td>ORGANIC YELLOW ONION</td>\n",
       "    </tr>\n",
       "    <tr>\n",
       "      <th>24851</th>\n",
       "      <td>24852</td>\n",
       "      <td>BANANA</td>\n",
       "    </tr>\n",
       "    <tr>\n",
       "      <th>24963</th>\n",
       "      <td>24964</td>\n",
       "      <td>ORGANIC GARLIC</td>\n",
       "    </tr>\n",
       "    <tr>\n",
       "      <th>26208</th>\n",
       "      <td>26209</td>\n",
       "      <td>LIMES</td>\n",
       "    </tr>\n",
       "    <tr>\n",
       "      <th>27844</th>\n",
       "      <td>27845</td>\n",
       "      <td>ORGANIC WHOLE MILK</td>\n",
       "    </tr>\n",
       "    <tr>\n",
       "      <th>27965</th>\n",
       "      <td>27966</td>\n",
       "      <td>ORGANIC RASPBERRIES</td>\n",
       "    </tr>\n",
       "    <tr>\n",
       "      <th>28203</th>\n",
       "      <td>28204</td>\n",
       "      <td>ORGANIC FUJI APPLE</td>\n",
       "    </tr>\n",
       "    <tr>\n",
       "      <th>39274</th>\n",
       "      <td>39275</td>\n",
       "      <td>ORGANIC BLUEBERRIES</td>\n",
       "    </tr>\n",
       "    <tr>\n",
       "      <th>45006</th>\n",
       "      <td>45007</td>\n",
       "      <td>ORGANIC ZUCCHINI</td>\n",
       "    </tr>\n",
       "    <tr>\n",
       "      <th>47208</th>\n",
       "      <td>47209</td>\n",
       "      <td>ORGANIC HASS AVOCADO</td>\n",
       "    </tr>\n",
       "    <tr>\n",
       "      <th>47625</th>\n",
       "      <td>47626</td>\n",
       "      <td>LARGE LEMON</td>\n",
       "    </tr>\n",
       "    <tr>\n",
       "      <th>47765</th>\n",
       "      <td>47766</td>\n",
       "      <td>ORGANIC AVOCADO</td>\n",
       "    </tr>\n",
       "    <tr>\n",
       "      <th>49234</th>\n",
       "      <td>49235</td>\n",
       "      <td>ORGANIC HALF &amp; HALF</td>\n",
       "    </tr>\n",
       "    <tr>\n",
       "      <th>49682</th>\n",
       "      <td>49683</td>\n",
       "      <td>CUCUMBER KIRBY</td>\n",
       "    </tr>\n",
       "  </tbody>\n",
       "</table>\n",
       "</div>"
      ],
      "text/plain": [
       "       product_id              product_name\n",
       "5875         5876             ORGANIC LEMON\n",
       "8276         8277  APPLE HONEYCRISP ORGANIC\n",
       "13175       13176    BAG OF ORGANIC BANANAS\n",
       "16796       16797              STRAWBERRIES\n",
       "21136       21137      ORGANIC STRAWBERRIES\n",
       "21902       21903      ORGANIC BABY SPINACH\n",
       "22934       22935      ORGANIC YELLOW ONION\n",
       "24851       24852                    BANANA\n",
       "24963       24964            ORGANIC GARLIC\n",
       "26208       26209                     LIMES\n",
       "27844       27845        ORGANIC WHOLE MILK\n",
       "27965       27966       ORGANIC RASPBERRIES\n",
       "28203       28204        ORGANIC FUJI APPLE\n",
       "39274       39275       ORGANIC BLUEBERRIES\n",
       "45006       45007          ORGANIC ZUCCHINI\n",
       "47208       47209      ORGANIC HASS AVOCADO\n",
       "47625       47626               LARGE LEMON\n",
       "47765       47766           ORGANIC AVOCADO\n",
       "49234       49235       ORGANIC HALF & HALF\n",
       "49682       49683            CUCUMBER KIRBY"
      ]
     },
     "metadata": {},
     "output_type": "display_data"
    }
   ],
   "source": [
    "# Demuestra cuales son los 20 principales artículos que vuelven a pedirse con mayor frecuencia (muestra sus nombres e IDs de los productos)\n",
    "product_reorder_counts = df_order_products[df_order_products['reordered'] == 1]['product_id'].value_counts()\n",
    "top_20_reordered_product_ids = product_reorder_counts.head(20).index\n",
    "top_20_reordered_products = df_products[df_products['product_id'].isin(top_20_reordered_product_ids)][['product_id', 'product_name']]\n",
    "\n",
    "print(\"Los 20 principales artículos que se vuelven a pedir con mayor frecuencia:\")\n",
    "display(top_20_reordered_products)"
   ]
  },
  {
   "cell_type": "code",
   "execution_count": 47,
   "metadata": {},
   "outputs": [
    {
     "data": {
      "text/html": [
       "<div>\n",
       "<style scoped>\n",
       "    .dataframe tbody tr th:only-of-type {\n",
       "        vertical-align: middle;\n",
       "    }\n",
       "\n",
       "    .dataframe tbody tr th {\n",
       "        vertical-align: top;\n",
       "    }\n",
       "\n",
       "    .dataframe thead th {\n",
       "        text-align: right;\n",
       "    }\n",
       "</style>\n",
       "<table border=\"1\" class=\"dataframe\">\n",
       "  <thead>\n",
       "    <tr style=\"text-align: right;\">\n",
       "      <th></th>\n",
       "      <th>product_id</th>\n",
       "      <th>reorder_rate</th>\n",
       "      <th>proportion_reordered</th>\n",
       "      <th>product_name</th>\n",
       "    </tr>\n",
       "  </thead>\n",
       "  <tbody>\n",
       "    <tr>\n",
       "      <th>0</th>\n",
       "      <td>1</td>\n",
       "      <td>0.564286</td>\n",
       "      <td>0.564286</td>\n",
       "      <td>CHOCOLATE SANDWICH COOKIES</td>\n",
       "    </tr>\n",
       "    <tr>\n",
       "      <th>1</th>\n",
       "      <td>2</td>\n",
       "      <td>0.000000</td>\n",
       "      <td>0.000000</td>\n",
       "      <td>ALL-SEASONS SALT</td>\n",
       "    </tr>\n",
       "    <tr>\n",
       "      <th>2</th>\n",
       "      <td>3</td>\n",
       "      <td>0.738095</td>\n",
       "      <td>0.738095</td>\n",
       "      <td>ROBUST GOLDEN UNSWEETENED OOLONG TEA</td>\n",
       "    </tr>\n",
       "    <tr>\n",
       "      <th>3</th>\n",
       "      <td>4</td>\n",
       "      <td>0.510204</td>\n",
       "      <td>0.510204</td>\n",
       "      <td>SMART ONES CLASSIC FAVORITES MINI RIGATONI WIT...</td>\n",
       "    </tr>\n",
       "    <tr>\n",
       "      <th>4</th>\n",
       "      <td>7</td>\n",
       "      <td>0.500000</td>\n",
       "      <td>0.500000</td>\n",
       "      <td>PURE COCONUT WATER WITH ORANGE</td>\n",
       "    </tr>\n",
       "    <tr>\n",
       "      <th>5</th>\n",
       "      <td>8</td>\n",
       "      <td>0.315789</td>\n",
       "      <td>0.315789</td>\n",
       "      <td>CUT RUSSET POTATOES STEAM N' MASH</td>\n",
       "    </tr>\n",
       "    <tr>\n",
       "      <th>6</th>\n",
       "      <td>9</td>\n",
       "      <td>0.761905</td>\n",
       "      <td>0.761905</td>\n",
       "      <td>LIGHT STRAWBERRY BLUEBERRY YOGURT</td>\n",
       "    </tr>\n",
       "    <tr>\n",
       "      <th>7</th>\n",
       "      <td>10</td>\n",
       "      <td>0.448071</td>\n",
       "      <td>0.448071</td>\n",
       "      <td>SPARKLING ORANGE JUICE &amp; PRICKLY PEAR BEVERAGE</td>\n",
       "    </tr>\n",
       "    <tr>\n",
       "      <th>8</th>\n",
       "      <td>11</td>\n",
       "      <td>0.625000</td>\n",
       "      <td>0.625000</td>\n",
       "      <td>PEACH MANGO JUICE</td>\n",
       "    </tr>\n",
       "    <tr>\n",
       "      <th>9</th>\n",
       "      <td>12</td>\n",
       "      <td>0.390244</td>\n",
       "      <td>0.390244</td>\n",
       "      <td>CHOCOLATE FUDGE LAYER CAKE</td>\n",
       "    </tr>\n",
       "    <tr>\n",
       "      <th>10</th>\n",
       "      <td>13</td>\n",
       "      <td>0.500000</td>\n",
       "      <td>0.500000</td>\n",
       "      <td>SALINE NASAL MIST</td>\n",
       "    </tr>\n",
       "    <tr>\n",
       "      <th>11</th>\n",
       "      <td>14</td>\n",
       "      <td>0.000000</td>\n",
       "      <td>0.000000</td>\n",
       "      <td>FRESH SCENT DISHWASHER CLEANER</td>\n",
       "    </tr>\n",
       "    <tr>\n",
       "      <th>12</th>\n",
       "      <td>17</td>\n",
       "      <td>0.000000</td>\n",
       "      <td>0.000000</td>\n",
       "      <td>RENDERED DUCK FAT</td>\n",
       "    </tr>\n",
       "    <tr>\n",
       "      <th>13</th>\n",
       "      <td>18</td>\n",
       "      <td>0.533333</td>\n",
       "      <td>0.533333</td>\n",
       "      <td>PIZZA FOR ONE SUPREMA  FROZEN PIZZA</td>\n",
       "    </tr>\n",
       "    <tr>\n",
       "      <th>14</th>\n",
       "      <td>19</td>\n",
       "      <td>0.000000</td>\n",
       "      <td>0.000000</td>\n",
       "      <td>GLUTEN FREE QUINOA THREE CHEESE &amp; MUSHROOM BLEND</td>\n",
       "    </tr>\n",
       "  </tbody>\n",
       "</table>\n",
       "</div>"
      ],
      "text/plain": [
       "    product_id  reorder_rate  proportion_reordered  \\\n",
       "0            1      0.564286              0.564286   \n",
       "1            2      0.000000              0.000000   \n",
       "2            3      0.738095              0.738095   \n",
       "3            4      0.510204              0.510204   \n",
       "4            7      0.500000              0.500000   \n",
       "5            8      0.315789              0.315789   \n",
       "6            9      0.761905              0.761905   \n",
       "7           10      0.448071              0.448071   \n",
       "8           11      0.625000              0.625000   \n",
       "9           12      0.390244              0.390244   \n",
       "10          13      0.500000              0.500000   \n",
       "11          14      0.000000              0.000000   \n",
       "12          17      0.000000              0.000000   \n",
       "13          18      0.533333              0.533333   \n",
       "14          19      0.000000              0.000000   \n",
       "\n",
       "                                         product_name  \n",
       "0                          CHOCOLATE SANDWICH COOKIES  \n",
       "1                                    ALL-SEASONS SALT  \n",
       "2                ROBUST GOLDEN UNSWEETENED OOLONG TEA  \n",
       "3   SMART ONES CLASSIC FAVORITES MINI RIGATONI WIT...  \n",
       "4                      PURE COCONUT WATER WITH ORANGE  \n",
       "5                   CUT RUSSET POTATOES STEAM N' MASH  \n",
       "6                   LIGHT STRAWBERRY BLUEBERRY YOGURT  \n",
       "7      SPARKLING ORANGE JUICE & PRICKLY PEAR BEVERAGE  \n",
       "8                                   PEACH MANGO JUICE  \n",
       "9                          CHOCOLATE FUDGE LAYER CAKE  \n",
       "10                                  SALINE NASAL MIST  \n",
       "11                     FRESH SCENT DISHWASHER CLEANER  \n",
       "12                                  RENDERED DUCK FAT  \n",
       "13                PIZZA FOR ONE SUPREMA  FROZEN PIZZA  \n",
       "14   GLUTEN FREE QUINOA THREE CHEESE & MUSHROOM BLEND  "
      ]
     },
     "metadata": {},
     "output_type": "display_data"
    }
   ],
   "source": [
    "# Para cada producto, demuestra cual es la proporción de las veces que se pide y que se vuelve a pedir\n",
    "total_orders_per_product = df_order_products['product_id'].value_counts()\n",
    "repeated_products = df_order_products[df_order_products['reordered'] == 1]\n",
    "repeated_orders_per_product = repeated_products['product_id'].value_counts()\n",
    "reorder_rate_per_product = (repeated_orders_per_product / total_orders_per_product).fillna(0)\n",
    "\n",
    "proportion_reordered = (repeated_orders_per_product / total_orders_per_product).fillna(0)\n",
    "\n",
    "reorder_info = pd.DataFrame({'product_id': reorder_rate_per_product.index,\n",
    "                             'reorder_rate': reorder_rate_per_product.values,\n",
    "                             'proportion_reordered': proportion_reordered.values})\n",
    "\n",
    "reorder_info = reorder_info.merge(df_products[['product_id', 'product_name']], on='product_id')\n",
    "\n",
    "display(reorder_info.head(15)) "
   ]
  },
  {
   "cell_type": "code",
   "execution_count": 48,
   "metadata": {},
   "outputs": [
    {
     "name": "stdout",
     "output_type": "stream",
     "text": [
      "Promedio de productos repetidos por usuario: 59.96%\n"
     ]
    }
   ],
   "source": [
    "# Para cada cliente, demuestra que proporción de sus productos ya los había pedido\n",
    "user_reorder_rates = df_order_products.groupby('order_id')['reordered'].mean()\n",
    "\n",
    "user_reorder_info = pd.DataFrame({'user_id': user_reorder_rates.index,\n",
    "                                  'reorder_rate': user_reorder_rates.values})\n",
    "\n",
    "average_reorder_rate = user_reorder_info['reorder_rate'].mean()\n",
    "\n",
    "print(f\"Promedio de productos repetidos por usuario: {average_reorder_rate * 100:.2f}%\")"
   ]
  },
  {
   "cell_type": "code",
   "execution_count": 49,
   "metadata": {},
   "outputs": [
    {
     "name": "stdout",
     "output_type": "stream",
     "text": [
      "Los 20 principales artículos que la gente pone primero en sus carritos:\n"
     ]
    },
    {
     "data": {
      "text/html": [
       "<div>\n",
       "<style scoped>\n",
       "    .dataframe tbody tr th:only-of-type {\n",
       "        vertical-align: middle;\n",
       "    }\n",
       "\n",
       "    .dataframe tbody tr th {\n",
       "        vertical-align: top;\n",
       "    }\n",
       "\n",
       "    .dataframe thead th {\n",
       "        text-align: right;\n",
       "    }\n",
       "</style>\n",
       "<table border=\"1\" class=\"dataframe\">\n",
       "  <thead>\n",
       "    <tr style=\"text-align: right;\">\n",
       "      <th></th>\n",
       "      <th>product_id</th>\n",
       "      <th>product_name</th>\n",
       "    </tr>\n",
       "  </thead>\n",
       "  <tbody>\n",
       "    <tr>\n",
       "      <th>195</th>\n",
       "      <td>196</td>\n",
       "      <td>SODA</td>\n",
       "    </tr>\n",
       "    <tr>\n",
       "      <th>5784</th>\n",
       "      <td>5785</td>\n",
       "      <td>ORGANIC REDUCED FAT 2% MILK</td>\n",
       "    </tr>\n",
       "    <tr>\n",
       "      <th>12340</th>\n",
       "      <td>12341</td>\n",
       "      <td>HASS AVOCADOS</td>\n",
       "    </tr>\n",
       "    <tr>\n",
       "      <th>13175</th>\n",
       "      <td>13176</td>\n",
       "      <td>BAG OF ORGANIC BANANAS</td>\n",
       "    </tr>\n",
       "    <tr>\n",
       "      <th>16796</th>\n",
       "      <td>16797</td>\n",
       "      <td>STRAWBERRIES</td>\n",
       "    </tr>\n",
       "    <tr>\n",
       "      <th>19659</th>\n",
       "      <td>19660</td>\n",
       "      <td>SPRING WATER</td>\n",
       "    </tr>\n",
       "    <tr>\n",
       "      <th>21136</th>\n",
       "      <td>21137</td>\n",
       "      <td>ORGANIC STRAWBERRIES</td>\n",
       "    </tr>\n",
       "    <tr>\n",
       "      <th>21902</th>\n",
       "      <td>21903</td>\n",
       "      <td>ORGANIC BABY SPINACH</td>\n",
       "    </tr>\n",
       "    <tr>\n",
       "      <th>24851</th>\n",
       "      <td>24852</td>\n",
       "      <td>BANANA</td>\n",
       "    </tr>\n",
       "    <tr>\n",
       "      <th>26208</th>\n",
       "      <td>26209</td>\n",
       "      <td>LIMES</td>\n",
       "    </tr>\n",
       "    <tr>\n",
       "      <th>27085</th>\n",
       "      <td>27086</td>\n",
       "      <td>HALF &amp; HALF</td>\n",
       "    </tr>\n",
       "    <tr>\n",
       "      <th>27844</th>\n",
       "      <td>27845</td>\n",
       "      <td>ORGANIC WHOLE MILK</td>\n",
       "    </tr>\n",
       "    <tr>\n",
       "      <th>27965</th>\n",
       "      <td>27966</td>\n",
       "      <td>ORGANIC RASPBERRIES</td>\n",
       "    </tr>\n",
       "    <tr>\n",
       "      <th>38688</th>\n",
       "      <td>38689</td>\n",
       "      <td>ORGANIC REDUCED FAT MILK</td>\n",
       "    </tr>\n",
       "    <tr>\n",
       "      <th>43351</th>\n",
       "      <td>43352</td>\n",
       "      <td>RASPBERRIES</td>\n",
       "    </tr>\n",
       "    <tr>\n",
       "      <th>44631</th>\n",
       "      <td>44632</td>\n",
       "      <td>SPARKLING WATER GRAPEFRUIT</td>\n",
       "    </tr>\n",
       "    <tr>\n",
       "      <th>47208</th>\n",
       "      <td>47209</td>\n",
       "      <td>ORGANIC HASS AVOCADO</td>\n",
       "    </tr>\n",
       "    <tr>\n",
       "      <th>47625</th>\n",
       "      <td>47626</td>\n",
       "      <td>LARGE LEMON</td>\n",
       "    </tr>\n",
       "    <tr>\n",
       "      <th>47765</th>\n",
       "      <td>47766</td>\n",
       "      <td>ORGANIC AVOCADO</td>\n",
       "    </tr>\n",
       "    <tr>\n",
       "      <th>49234</th>\n",
       "      <td>49235</td>\n",
       "      <td>ORGANIC HALF &amp; HALF</td>\n",
       "    </tr>\n",
       "  </tbody>\n",
       "</table>\n",
       "</div>"
      ],
      "text/plain": [
       "       product_id                 product_name\n",
       "195           196                         SODA\n",
       "5784         5785  ORGANIC REDUCED FAT 2% MILK\n",
       "12340       12341                HASS AVOCADOS\n",
       "13175       13176       BAG OF ORGANIC BANANAS\n",
       "16796       16797                 STRAWBERRIES\n",
       "19659       19660                 SPRING WATER\n",
       "21136       21137         ORGANIC STRAWBERRIES\n",
       "21902       21903         ORGANIC BABY SPINACH\n",
       "24851       24852                       BANANA\n",
       "26208       26209                        LIMES\n",
       "27085       27086                  HALF & HALF\n",
       "27844       27845           ORGANIC WHOLE MILK\n",
       "27965       27966          ORGANIC RASPBERRIES\n",
       "38688       38689     ORGANIC REDUCED FAT MILK\n",
       "43351       43352                  RASPBERRIES\n",
       "44631       44632   SPARKLING WATER GRAPEFRUIT\n",
       "47208       47209         ORGANIC HASS AVOCADO\n",
       "47625       47626                  LARGE LEMON\n",
       "47765       47766              ORGANIC AVOCADO\n",
       "49234       49235          ORGANIC HALF & HALF"
      ]
     },
     "metadata": {},
     "output_type": "display_data"
    }
   ],
   "source": [
    "# Muestra cuales son los 20 principales artículos que las personas ponen primero en sus carritos\n",
    "first_added_products = df_order_products[df_order_products['add_to_cart_order'] == 1]\n",
    "first_added_product_counts = first_added_products['product_id'].value_counts()\n",
    "top_20_first_added_product_ids = first_added_product_counts.head(20).index\n",
    "\n",
    "top_20_first_added_products = df_products[df_products['product_id'].isin(top_20_first_added_product_ids)][['product_id', 'product_name']]\n",
    "\n",
    "print(\"Los 20 principales artículos que la gente pone primero en sus carritos:\")\n",
    "display(top_20_first_added_products)"
   ]
  },
  {
   "cell_type": "code",
   "execution_count": null,
   "metadata": {},
   "outputs": [],
   "source": []
  }
 ],
 "metadata": {
  "kernelspec": {
   "display_name": "Python 3",
   "language": "python",
   "name": "python3"
  },
  "language_info": {
   "codemirror_mode": {
    "name": "ipython",
    "version": 3
   },
   "file_extension": ".py",
   "mimetype": "text/x-python",
   "name": "python",
   "nbconvert_exporter": "python",
   "pygments_lexer": "ipython3",
   "version": "3.11.4"
  },
  "orig_nbformat": 4
 },
 "nbformat": 4,
 "nbformat_minor": 2
}
